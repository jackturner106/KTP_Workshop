{
 "cells": [
  {
   "cell_type": "markdown",
   "id": "23251252",
   "metadata": {},
   "source": [
    "# API\n",
    "\n",
    "## What is an API?\n",
    "An Application Programming Interface (API) defines the interactions between different computers (i.e. client <-> server) or programs (Java Standard Library <-> Your Java Code)\n",
    "\n",
    "If websites are built for humans to interact with, APIs are designed for computers to interact with\n",
    "\n",
    "## Why should I use an API?\n",
    "APIs make your app more dynamic by allowing you to use real-world data or update content on the fly\n",
    "\n",
    "Simple Example: Get the Weather:"
   ]
  },
  {
   "cell_type": "code",
   "execution_count": null,
   "id": "f176b32b",
   "metadata": {},
   "outputs": [
    {
     "name": "stdout",
     "output_type": "stream",
     "text": [
      "Current weather in Boston:\n",
      "Temperature: 80 F\n",
      "Details: Sunny, with a high near 80. Southwest wind 3 to 7 mph.\n"
     ]
    }
   ],
   "source": [
    "import requests\n",
    "\n",
    "def get_weather_boston():\n",
    "    url = \"https://api.weather.gov/gridpoints/BOX/71,90/forecast\"  # Gridpoint box for Boston\n",
    "    \n",
    "    response = requests.get(url)\n",
    "    \n",
    "    if response.status_code == 200:\n",
    "        weather_data = response.json()\n",
    "        current_conditions = weather_data['properties']['periods'][0]\n",
    "        return current_conditions\n",
    "    else:\n",
    "        print(f\"Error fetching point data: {response.status_code}\")\n",
    "\n",
    "current_weather = get_weather_boston()\n",
    "if current_weather:\n",
    "    print(\"Current weather in Boston:\")\n",
    "    print(f\"High Temperature: {current_weather['temperature']} {current_weather['temperatureUnit']}\")\n",
    "    print(f\"Details: {current_weather['detailedForecast']}\")\n"
   ]
  },
  {
   "cell_type": "markdown",
   "id": "03d896e4",
   "metadata": {},
   "source": [
    "We can easily make this more adaptable:"
   ]
  },
  {
   "cell_type": "code",
   "execution_count": null,
   "id": "303297f5",
   "metadata": {},
   "outputs": [],
   "source": [
    "import requests\n",
    "\n",
    "def get_weather_at_coords(lat: float, lon: float):\n",
    "    url = f\"https://api.weather.gov/points/{round(lat, 4)},{round(lon, 4)}\"\n",
    "    \n",
    "    response = requests.get(url)\n",
    "    if response.status_code == 200:\n",
    "        data = response.json()\n",
    "        forecast_url = data['properties']['forecast']\n",
    "        \n",
    "        forecast_response = requests.get(forecast_url)\n",
    "        if forecast_response.status_code == 200:\n",
    "            weather_data = forecast_response.json()\n",
    "            current_conditions = weather_data['properties']['periods'][0]\n",
    "            return current_conditions\n",
    "        else:\n",
    "            print(f\"Error fetching forecast data: {forecast_response.status_code}\")\n",
    "    else:\n",
    "        print(f\"Error fetching point data: {response.status_code}\")\n",
    "\n",
    "# Get the current weather in Boston\n",
    "current_weather = get_weather_at_coords(38.869939, -77.191985) # Coordinate for Northern VA\n",
    "if current_weather:\n",
    "    print(\"Current weather:\")\n",
    "    print(f\"Temperature: {current_weather['temperature']} {current_weather['temperatureUnit']}\")\n",
    "    print(f\"Details: {current_weather['detailedForecast']}\")"
   ]
  },
  {
   "cell_type": "markdown",
   "id": "970af9a6",
   "metadata": {},
   "source": [
    "## How do we use APIs?\n",
    "\n",
    "Generally, writing to an API manually takes a while. We don't want to have to know all the options for our API, or parse a bunch of data manually. Thankfully, many APIs have an associated library we can use."
   ]
  },
  {
   "cell_type": "code",
   "execution_count": null,
   "id": "1799936c",
   "metadata": {},
   "outputs": [],
   "source": [
    "# Run this cell if you don't have leafmap installed\n",
    "!pip install leafmap ipyleaflet\n",
    "!jupyter nbextension install --py --symlink --sys-prefix ipyleaflet\n",
    "!jupyter nbextension enable --py --sys-prefix ipyleaflet"
   ]
  },
  {
   "cell_type": "code",
   "execution_count": null,
   "id": "0f551955",
   "metadata": {},
   "outputs": [],
   "source": [
    "import leafmap\n",
    "m = leafmap.Map(center=(40, -100), zoom=4)\n",
    "m"
   ]
  },
  {
   "cell_type": "markdown",
   "id": "58a4d406",
   "metadata": {},
   "source": [
    "## Useful APIs\n",
    "\n",
    "Weather: \n",
    "- [api.weather.gov](https://api.weather.gov), \n",
    "- [open-meteo.com](https://open-meteo.com), \n",
    "- [https://openweathermap.org/api](https://openweathermap.org/api)\n",
    "\n",
    "Mapping\n",
    " - [wiki.openstreetmap.org/wiki/Software_libraries](https://wiki.openstreetmap.org/wiki/Software_libraries)\n",
    "\n",
    "Space\n",
    " - [https://api.nasa.gov/](https://api.nasa.gov/) has 17 free space related services\n",
    "\n",
    "LLMs:\n",
    " - [api.openai.com](https://api.openai.com)\n",
    " - [console.anthropic.com](https://console.anthropic.com)\n",
    " - etc…\n",
    "\n",
    "Stocks:\n",
    " - Choice between getting the good stuff straight from the source or going through a dealer\n",
    " - The suppliers: \n",
    "    - [nyse.com/data-and-tech](https://nyse.com/data-and-tech)\n",
    "    - [nasdaq.com/solutions/data/nasdaq-data-link/](https://nasdaq.com/solutions/data/nasdaq-data-link/), \n",
    " - The dealers: \n",
    "    - [polygon.io](https://polygon.io)\n",
    "    - [alphavantage.com](https://alphavantage.com)\n",
    "    - about 1,000 others"
   ]
  }
 ],
 "metadata": {
  "kernelspec": {
   "display_name": "Python 3",
   "language": "python",
   "name": "python3"
  },
  "language_info": {
   "codemirror_mode": {
    "name": "ipython",
    "version": 3
   },
   "file_extension": ".py",
   "mimetype": "text/x-python",
   "name": "python",
   "nbconvert_exporter": "python",
   "pygments_lexer": "ipython3",
   "version": "3.12.2"
  }
 },
 "nbformat": 4,
 "nbformat_minor": 5
}
